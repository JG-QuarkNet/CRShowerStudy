{
 "cells": [
  {
   "cell_type": "code",
   "execution_count": 1,
   "metadata": {
    "scrolled": false
   },
   "outputs": [
    {
     "ename": "ModuleNotFoundError",
     "evalue": "No module named 'parsl'",
     "output_type": "error",
     "traceback": [
      "\u001b[0;31m---------------------------------------------------------------------------\u001b[0m",
      "\u001b[0;31mModuleNotFoundError\u001b[0m                       Traceback (most recent call last)",
      "\u001b[0;32m<ipython-input-1-b58c42ebfb2b>\u001b[0m in \u001b[0;36m<module>\u001b[0;34m()\u001b[0m\n\u001b[1;32m      1\u001b[0m \u001b[0;31m#import argparse\u001b[0m\u001b[0;34m\u001b[0m\u001b[0;34m\u001b[0m\u001b[0m\n\u001b[0;32m----> 2\u001b[0;31m \u001b[0;32mimport\u001b[0m \u001b[0mparsl\u001b[0m\u001b[0;34m\u001b[0m\u001b[0m\n\u001b[0m\u001b[1;32m      3\u001b[0m \u001b[0;31m#from parsl import *\u001b[0m\u001b[0;34m\u001b[0m\u001b[0;34m\u001b[0m\u001b[0m\n",
      "\u001b[0;31mModuleNotFoundError\u001b[0m: No module named 'parsl'"
     ]
    }
   ],
   "source": [
    "#import argparse\n",
    "import parsl\n",
    "#from parsl import *"
   ]
  },
  {
   "cell_type": "code",
   "execution_count": null,
   "metadata": {},
   "outputs": [],
   "source": [
    "workers = ThreadPoolExecutor(max_workers=4)\n",
    "dfk = DataFlowKernel(executors=[workers])"
   ]
  },
  {
   "cell_type": "code",
   "execution_count": null,
   "metadata": {},
   "outputs": [],
   "source": [
    "## Define Apps ##\n",
    "@App('bash', dfk)\n",
    "def WireDelay(threshIn='', outputs=[], geoDir='', daqId='', fw=''):\n",
    "\treturn 'perl perl/WireDelay.pl %s %s %s %s %s' %(threshIn,outputs[0],geoDir,daqId,fw)\n",
    "\n",
    "@App('bash', dfk)\n",
    "def Combine(inputs=[],outputs=[]):\n",
    "\treturn 'perl perl/Combine.pl ' + ' '.join(inputs) + ' ' + str(outputs[0])\n",
    "\n",
    "@App('bash', dfk)\n",
    "def Sort(inputs=[], outputs=[], key1='1', key2='1'):\n",
    "\treturn 'perl perl/Sort.pl %s %s %s %s' %(inputs[0], outputs[0], key1, key2)\n",
    "\n",
    "@App('bash', dfk)\n",
    "def EventSearch(inputs=[], outputs=[], gate='', detCoinc='2', chanCoinc='2', eventCoinc='2'):\n",
    "\treturn 'perl perl/EventSearch.pl %s %s %s %s %s %s' %(inputs[0],outputs[0],gate,detCoinc,chanCoinc,eventCoinc)\n"
   ]
  },
  {
   "cell_type": "code",
   "execution_count": null,
   "metadata": {},
   "outputs": [],
   "source": [
    "'''\n",
    "## Parse the command-line arguments ##\n",
    "parser = argparse.ArgumentParser()\n",
    "\n",
    "parser.add_argument(\"--thresholdAll\", nargs='+', help=\"All threshold files\")\n",
    "parser.add_argument(\"--wireDelayData\", nargs='+', help=\"Filenames for intermediate Wire Delay data\")\n",
    "parser.add_argument(\"--geoDir\", help=\"Directory containing DAQ ID directories that contain .geo files\")\n",
    "#parser.add_argument(\"--geoFiles\", nargs='+', help=\".geo filenames for each CRD\")\n",
    "parser.add_argument(\"--detectors\", nargs='+', help=\"IDs of all CRDs in the analysis\")\n",
    "parser.add_argument(\"--firmwares\", nargs='+', help=\"DAQ firmware versions\")\n",
    "parser.add_argument(\"--combineOut\", help=\"Combined data from all intermediate Wire Delay files\")\n",
    "parser.add_argument(\"--sort_sortKey1\")\n",
    "parser.add_argument(\"--sort_sortKey2\")\n",
    "parser.add_argument(\"--sortOut\")\n",
    "parser.add_argument(\"--gate\")\n",
    "parser.add_argument(\"--detectorCoincidence\")\n",
    "parser.add_argument(\"--channelCoincidence\")\n",
    "parser.add_argument(\"--eventCoincidence\")\n",
    "parser.add_argument(\"--eventCandidates\", help=\"eventCandidates file\")\n",
    "\n",
    "args = parser.parse_args()\n",
    "'''"
   ]
  },
  {
   "cell_type": "code",
   "execution_count": null,
   "metadata": {},
   "outputs": [],
   "source": [
    "thresholdAll = ('files/6119.2016.0109.0.thresh', 'files/6148.2016.0109.0.thresh')\n",
    "wireDelayData = ('6119.2016.0109.0.wd', '6148.2016.0109.0.wd')\n",
    "geoDir = './geo'\n",
    "detectors = ('6119', '6148')\n",
    "firmwares = ('1.12', '1.12')\n",
    "combineOut = 'combinedData'\n",
    "sort_sortKey1 = '2'\n",
    "sort_sortKey2 = '3'\n",
    "sortOut = 'sortedData'\n",
    "gate = '1000'\n",
    "detectorCoincidence = '2'\n",
    "channelCoincidence = '2'\n",
    "eventCoincidence = '2'\n",
    "eventCandidates = 'eventCandidates'"
   ]
  },
  {
   "cell_type": "code",
   "execution_count": null,
   "metadata": {},
   "outputs": [],
   "source": [
    "## The Workflow ##\n",
    "\n",
    "# 1) WireDelay() takes input Threshold (.thresh) files and converts\n",
    "#    each to a Wire Delay (.wd) file:\n",
    "WireDelay_futures = []\n",
    "for i in range(len(args.thresholdAll)):\n",
    "\tWireDelay_futures.append(WireDelay(threshIn=args.thresholdAll[i], outputs=[args.wireDelayData[i]], geoDir=args.geoDir, daqId=args.detectors[i],fw=args.firmwares[i]))\n",
    "\n",
    "# WireDelay_futures is a list of futures.\n",
    "# Each future has an outputs list with one output.\n",
    "WireDelay_outputs = [i.outputs[0] for i in WireDelay_futures]\n",
    "\n",
    "print(\"pre-combine checkpoint\")\n",
    "\n",
    "# 2) Combine() takes the WireDelay files output by WireDelay() and combines\n",
    "#    them into a single file with name given by --combineOut\n",
    "#print(WireDelay_outputs, [args.combineOut])\n",
    "Combine_future = Combine(inputs=WireDelay_outputs, outputs=[args.combineOut])\n",
    "\n",
    "# 3) Sort() sorts the --combineOut file, producing a new file with name given\n",
    "#    by --sortOut\n",
    "Sort_future = Sort(inputs=Combine_future.outputs, outputs=[args.sortOut], key1=args.sort_sortKey1, key2=args.sort_sortKey2)\n",
    "\n",
    "# 4) EventSearch() processes the --sortOut file and identifies event\n",
    "#    candidates in a output file with name given by --eventCandidates\n",
    "# NB: This output file is interpreted by the e-Lab webapp, which expects it\n",
    "#    to be named \"eventCandidates\"\n",
    "EventSearch_future = EventSearch(inputs=Sort_future.outputs, outputs=[args.eventCandidates], gate=args.gate, detCoinc=args.detectorCoincidence, chanCoinc=args.channelCoincidence, eventCoinc=args.eventCoincidence)\n"
   ]
  },
  {
   "cell_type": "code",
   "execution_count": null,
   "metadata": {},
   "outputs": [],
   "source": [
    "# Wait for the final result before exiting.\n",
    "x = EventSearch_future.result()\n",
    "\n",
    "print(\"Call to EventSearch completed with exit code:\", x)"
   ]
  }
 ],
 "metadata": {
  "kernelspec": {
   "display_name": "Python 3",
   "language": "python",
   "name": "python3"
  },
  "language_info": {
   "codemirror_mode": {
    "name": "ipython",
    "version": 3
   },
   "file_extension": ".py",
   "mimetype": "text/x-python",
   "name": "python",
   "nbconvert_exporter": "python",
   "pygments_lexer": "ipython3",
   "version": "3.6.4"
  }
 },
 "nbformat": 4,
 "nbformat_minor": 2
}
