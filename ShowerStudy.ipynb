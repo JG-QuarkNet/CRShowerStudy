{
 "cells": [
  {
   "cell_type": "code",
   "execution_count": 13,
   "metadata": {},
   "outputs": [],
   "source": [
    "import parsl\n",
    "from parsl import *"
   ]
  },
  {
   "cell_type": "code",
   "execution_count": 14,
   "metadata": {},
   "outputs": [],
   "source": [
    "local_config = {\n",
    "    \"sites\" : [\n",
    "        { \"site\" : \"Threads\",\n",
    "          \"auth\" : { \"channel\" : None },\n",
    "          \"execution\" : {\n",
    "              \"executor\" : \"threads\",\n",
    "              \"provider\" : None,\n",
    "              \"max_workers\" : 4\n",
    "          }\n",
    "        }],\n",
    "    \"globals\" : {\"lazyErrors\" : True}\n",
    "}\n",
    "\n",
    "dfk = DataFlowKernel(config=local_config)"
   ]
  },
  {
   "cell_type": "code",
   "execution_count": 10,
   "metadata": {},
   "outputs": [],
   "source": [
    "## Define Apps ##\n",
    "@App('bash', dfk)\n",
    "def WireDelay(threshIn='', outputs=[], geoDir='', daqId='', fw='', stdout='stdout.txt', stderr='stderr.txt'):\n",
    "        return 'perl ./perl/WireDelay.pl %s %s %s %s %s' %(threshIn,outputs[0],geoDir,daqId,fw)\n",
    "\n",
    "@App('bash', dfk)\n",
    "def Combine(inputs=[], outputs=[], stdout='stdout.txt', stderr='stderr.txt'):\n",
    "        return 'perl ./perl/Combine.pl ' + ' '.join(inputs) + ' ' + str(outputs[0])\n",
    "\n",
    "@App('bash', dfk)\n",
    "def Sort(inputs=[], outputs=[], key1='1', key2='1', stdout='stdout.txt', stderr='stderr.txt'):\n",
    "        return 'perl ./perl/Sort.pl %s %s %s %s' %(inputs[0], outputs[0], key1, key2)\n",
    "\n",
    "@App('bash', dfk)\n",
    "def EventSearch(inputs=[], outputs=[], gate='', detCoinc='2', chanCoinc='2', eventCoinc='2', stdout='stdout.txt', stderr='stderr.txt'):\n",
    "        return 'perl ./perl/EventSearch.pl %s %s %s %s %s %s' %(inputs[0],outputs[0],gate,detCoinc,chanCoinc,eventCoinc)"
   ]
  },
  {
   "cell_type": "code",
   "execution_count": 11,
   "metadata": {},
   "outputs": [],
   "source": [
    "## Analysis Parameters ##\n",
    "# Define what are typically the command-line arguments\n",
    "thresholdAll = ('files/6119.2016.0104.1.thresh', 'files/6203.2016.0104.1.thresh')\n",
    "wireDelayData = ('6119.2016.0104.1.wd', '6203.2016.0104.1.wd')\n",
    "geoDir = './geo'\n",
    "detectors = ('6119', '6203')\n",
    "firmwares = ('1.12', '1.12')\n",
    "combineOut = 'combinedData'\n",
    "sort_sortKey1 = '2'\n",
    "sort_sortKey2 = '3'\n",
    "sortOut = 'sortedData'\n",
    "gate = '1000'\n",
    "detectorCoincidence = '1'\n",
    "channelCoincidence = '2'\n",
    "eventCoincidence = '2'\n",
    "eventCandidates = 'eventCandidates'"
   ]
  },
  {
   "cell_type": "code",
   "execution_count": 12,
   "metadata": {},
   "outputs": [
    {
     "name": "stdout",
     "output_type": "stream",
     "text": [
      "Call to EventSearch completed with exit code: 0\n"
     ]
    }
   ],
   "source": [
    "## Workflow ##\n",
    "# 1) WireDelay() takes input Threshold (.thresh) files and converts\n",
    "#    each to a Wire Delay (.wd) file:\n",
    "WireDelay_futures = []\n",
    "for i in range(len(thresholdAll)):\n",
    "        WireDelay_futures.append(WireDelay(threshIn=thresholdAll[i], outputs=[wireDelayData[i]], geoDir=geoDir, daqId=detectors[i],fw=firmwares[i]))\n",
    "\n",
    "# WireDelay_futures is a list of futures.\n",
    "# Each future has an outputs list with one output.\n",
    "WireDelay_outputs = [i.outputs[0] for i in WireDelay_futures]\n",
    "\n",
    "# 2) Combine() takes the WireDelay files output by WireDelay() and combines\n",
    "#    them into a single file with name given by --combineOut\n",
    "Combine_future = Combine(inputs=WireDelay_outputs, outputs=[combineOut])\n",
    "\n",
    "# 3) Sort() sorts the --combineOut file, producing a new file with name given\n",
    "#    by --sortOut\n",
    "Sort_future = Sort(inputs=Combine_future.outputs, outputs=[sortOut], key1=sort_sortKey1, key2=sort_sortKey2)\n",
    "\n",
    "# 4) EventSearch() processes the --sortOut file and identifies event\n",
    "#    candidates in a output file with name given by --eventCandidates\n",
    "# NB: This output file is interpreted by the e-Lab webapp, which expects it\n",
    "#    to be named \"eventCandidates\"\n",
    "EventSearch_future = EventSearch(inputs=Sort_future.outputs, outputs=[eventCandidates], gate=gate, detCoinc=detectorCoincidence, chanCoinc=channelCoincidence, eventCoinc=eventCoincidence)\n",
    "\n",
    "# Wait for the final result before exiting.\n",
    "x = EventSearch_future.result()\n",
    "\n",
    "print(\"Call to EventSearch completed with exit code:\", x)"
   ]
  },
  {
   "cell_type": "code",
   "execution_count": null,
   "metadata": {},
   "outputs": [],
   "source": []
  }
 ],
 "metadata": {
  "kernelspec": {
   "display_name": "Python 3",
   "language": "python",
   "name": "python3"
  },
  "language_info": {
   "codemirror_mode": {
    "name": "ipython",
    "version": 3
   },
   "file_extension": ".py",
   "mimetype": "text/x-python",
   "name": "python",
   "nbconvert_exporter": "python",
   "pygments_lexer": "ipython3",
   "version": "3.6.4"
  }
 },
 "nbformat": 4,
 "nbformat_minor": 2
}
