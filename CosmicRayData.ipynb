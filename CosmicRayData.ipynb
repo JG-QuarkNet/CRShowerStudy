{
 "cells": [
  {
   "cell_type": "markdown",
   "metadata": {},
   "source": [
    "Resources\n",
    "\n",
    "* [e-Lab step-by-step for Shower Study](https://www.i2u2.org/elab/cosmic/analysis-shower/tryit.html)\n",
    "* [e-Lab tutorial for Shower Study](https://www.i2u2.org/elab/cosmic/analysis-shower/tutorial.jsp)\n",
    "* [QuarkNet Cosmic Ray Muon Detector User's Manual](https://quarknet.org/sites/default/files/cf_6000crmdusermanual-small.pdf) (pdf)"
   ]
  },
  {
   "cell_type": "markdown",
   "metadata": {},
   "source": [
    "When cosmic ray muons travel through the scintillating material of the detectors, they leave trails of light that are collected by the photomultipliers and converted into electrical pulses - the more energy the muon had, the bigger the pulse.\n",
    "\n",
    "When the magnitude of the signal pulse exceeds a certain voltage called the **threshold**, the DAQ board records the time that the signal first exceeded the threshold and the time that the signal subsequently falls back below the threshold.\n",
    "\n",
    "Here's a sample of what that data looks like:"
   ]
  },
  {
   "cell_type": "markdown",
   "metadata": {},
   "source": [
    "```\n",
    "$md5\n",
    "#md5_hex(0)\n",
    "#ID.CHANNEL, Julian Day, RISING EDGE(sec), FALLING EDGE(sec), TIME OVER THRESHOLD (nanosec), RISING EDGE(INT), FALLING EDGE(INT)\n",
    "6203.1\t2457392\t0.2452114384916088\t0.2452114384919415\t28.75\t2118626828567500\t2118626828570375\n",
    "6203.4\t2457392\t0.2452114384916232\t0.2452114384919705\t30.00\t2118626828567625\t2118626828570625\n",
    "```"
   ]
  },
  {
   "cell_type": "markdown",
   "metadata": {},
   "source": [
    "As explained by the header line, the first value in each line is the DAQ ID of the detector along with the channel number (1 through 4) that recorded the signal.  \n",
    "\n",
    "The second number is the date this data was recorded, given as the Julian Day.  The Julian Day is the count of days since January 1, 4713 BC according to the Julian calendar, and it's a common means of measuring time in astronomical studies.\n",
    "\n",
    "The third number is the time that the electrical pulse first exceeded the threshold, called the **rising edge** of the pulse. The next number is the time at which the pulse fell back below the threshold, called the **falling edge**.  Although the header line indicates that these values are given in seconds, they are actually measured as the fraction of the day that has passed since the DAQ's day clock rolled over, typically around midnight.  Thus, 0.2452114384916088 is about a quarter of the way through the day, or a little before 6:00 AM (it's actually 5:53:06 and change).  These values are precise to within a tenth of a nanosecond.\n",
    "\n",
    "The fifth number is the time the pulse spends above the threshold, which is equal to `(falling edge) - (rising edge)`.  The value is given in nanoseconds.\n",
    "\n",
    "The sixth and seventh numbers are the `rising edge` and `falling edge` times, respectively, converted into an integer number of hundredths of a nanosecond."
   ]
  },
  {
   "cell_type": "code",
   "execution_count": null,
   "metadata": {},
   "outputs": [],
   "source": []
  }
 ],
 "metadata": {
  "kernelspec": {
   "display_name": "Python 3",
   "language": "python",
   "name": "python3"
  },
  "language_info": {
   "codemirror_mode": {
    "name": "ipython",
    "version": 3
   },
   "file_extension": ".py",
   "mimetype": "text/x-python",
   "name": "python",
   "nbconvert_exporter": "python",
   "pygments_lexer": "ipython3",
   "version": "3.6.4"
  }
 },
 "nbformat": 4,
 "nbformat_minor": 2
}
